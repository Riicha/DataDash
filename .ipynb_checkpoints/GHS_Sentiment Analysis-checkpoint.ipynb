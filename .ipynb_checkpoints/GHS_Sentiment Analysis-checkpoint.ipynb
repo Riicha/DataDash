{
 "cells": [
  {
   "cell_type": "markdown",
   "metadata": {},
   "source": [
    "# 1. Data Analysis of the Influencers:\n",
    "# 2. Sentiment Analysis of the Influencers: \n"
   ]
  },
  {
   "cell_type": "code",
   "execution_count": 153,
   "metadata": {},
   "outputs": [],
   "source": [
    "# Import the Dependencies\n",
    "import tweepy\n",
    "import json\n",
    "import numpy as np\n",
    "import pandas as pd\n",
    "import matplotlib.pyplot as plt\n",
    "import time\n"
   ]
  },
  {
   "cell_type": "code",
   "execution_count": 154,
   "metadata": {},
   "outputs": [],
   "source": [
    "# Import keys from the config file\n",
    "from config import consumer_key, consumer_secret, access_token, access_token_secret"
   ]
  },
  {
   "cell_type": "code",
   "execution_count": 155,
   "metadata": {},
   "outputs": [],
   "source": [
    "# # Twitter API Keys\n",
    "# consumer_key = 'Your Key'\n",
    "# consumer_secret = 'Your Key'\n",
    "# access_token = 'Your Key'\n",
    "# access_token_secret = 'Your Key'"
   ]
  },
  {
   "cell_type": "code",
   "execution_count": 156,
   "metadata": {},
   "outputs": [],
   "source": [
    "# Import and Initialize Sentiment Analyzer\n",
    "from vaderSentiment.vaderSentiment import SentimentIntensityAnalyzer\n",
    "analyzer = SentimentIntensityAnalyzer()"
   ]
  },
  {
   "cell_type": "code",
   "execution_count": 157,
   "metadata": {},
   "outputs": [],
   "source": [
    "# Setup Tweepy API Authentication\n",
    "auth = tweepy.OAuthHandler(consumer_key, consumer_secret)\n",
    "auth.set_access_token(access_token, access_token_secret)\n",
    "api = tweepy.API(auth, parser=tweepy.parsers.JSONParser())"
   ]
  },
  {
   "cell_type": "code",
   "execution_count": 158,
   "metadata": {},
   "outputs": [],
   "source": [
    "# Target Search Term of the various Influencers\n",
    "Influencers = get the Influencers from the csv / xls file \n",
    "\n",
    "# Array to hold the sentiments\n",
    "Tweet_array = []\n",
    "Sentiment_array = []"
   ]
  },
  {
   "cell_type": "code",
   "execution_count": 2,
   "metadata": {},
   "outputs": [],
   "source": [
    "Extract the first 100 tweets of the Influencers\n",
    "print(\"-----------Start extraction of the tweets posted by the Influencers!!!-----------\")\n",
    "\n",
    "for user in Influencers:\n",
    "    # Set the tweet count to 100\n",
    "    tweet_count = 100\n",
    "    print(\"Extracting tweets from %s\"%user)\n",
    "    \n",
    "    # Extract tweets up to 5 pages\n",
    "    for x in range(5):\n",
    "        influencer_tweets = api.user_timeline(user,page = x)\n",
    "        \n",
    "        # For each tweet in a bunch of public tweets\n",
    "        for tweet in influencer_tweets:\n",
    "            \n",
    "            #Calculate the compound, positive, negative and neutral values of each tweet\n",
    "            compound = analyzer.polarity_scores(tweet[\"text\"])[\"compound\"]\n",
    "            pos = analyzer.polarity_scores(tweet[\"text\"])[\"pos\"]\n",
    "            neu = analyzer.polarity_scores(tweet[\"text\"])[\"neu\"]\n",
    "            neg = analyzer.polarity_scores(tweet[\"text\"])[\"neg\"]\n",
    "            \n",
    "            # Save the Tweets in an array as a dictionery item \n",
    "            Sentiment_array.append({\"Influencers\" : user,\n",
    "                                    \"Tweet Text\" : tweet[\"text\"],\n",
    "                                    \"Compound\" : compound,\n",
    "                                    \"Positive\" : pos,\n",
    "                                    \"Negative\" : neg,\n",
    "                                    \"Neutral\" : neu,\n",
    "                                    \"Date\" : tweet[\"created_at\"],\n",
    "                                    \"Tweets Ago\" : tweet_count\n",
    "                                   })\n",
    "            \n",
    "            #Decrease count of tweet by 1 in the reverse order\n",
    "            tweet_count -= 1\n",
    "\n",
    "print(\"-----------End of Extraction of Tweets !!!-----------\")\n"
   ]
  },
  {
   "cell_type": "code",
   "execution_count": 4,
   "metadata": {},
   "outputs": [],
   "source": [
    "# Create dataframe from the Dictionery item of the Sentiment Array\n",
    "Sentiment_DF = pd.DataFrame.from_dict(Sentiment_array)\n",
    "\n",
    "# Remove the '@' from the 'influence' column in the data frame\n",
    "Sentiment_DF['Influencers'] = Sentiment_DF['Influencers'].map(lambda x: x.lstrip('@'))\n",
    "\n",
    "# Re_arrang the columns and save into a CSV file\n",
    "Sentiment_DF = Sentiment_DF[[\"Influencers\", \"Date\", \"Tweet Text\"\n",
    "                             , \"Compound\", \"Positive\", \"Negative\"\n",
    "                             , \"Neutral\", \"Tweets Ago\"\n",
    "                            ]]\n",
    "\n",
    "# Store output in a .CSV File\n",
    "# Sentiment_DF.to_csv(\"influencer_tweets_Analysis.csv\")\n",
    "Sentiment_DF.to_csv(\"influencer_tweets_Analysis.csv\")\n",
    "\n",
    "# Sentiment_DF"
   ]
  },
  {
   "cell_type": "code",
   "execution_count": 5,
   "metadata": {},
   "outputs": [],
   "source": [
    "# Create an array of Influencers Houses with the unique function in the data frame\n",
    "Influencers_array = Sentiment_DF[\"influencer\"].unique()\n",
    "\n",
    "\n",
    "# #Plotting the graph for each influencer\n",
    "for influencer in Influencers_array:\n",
    "# Creating a temporary data frame to store for only one influencer at a time\n",
    "        Temp_DF = Sentiment_DF[Sentiment_DF[\"influencer\"] == influencer]\n",
    "        \n",
    "        Sentiment_DF['influencer'] = Sentiment_DF['influencer'].map(lambda x: x.lstrip('@'))\n",
    "#Temp_DF\n",
    "    \n",
    "        plt.scatter(Temp_DF[\"Tweets Ago\"],Temp_DF[\"Compound\"]\n",
    "                 , marker = \"o\", linewidth = 0, alpha = 0.8, label = Influencers\n",
    "                 , facecolors = Temp_DF.influencer.map({\"influencer1\": \"blue\"\n",
    "                                                   , \"influencer2\" : \"lime\"\n",
    "                                                   , \"influencer3\": 'indigo'\n",
    "                                                   , \"influencer4\":\"fuchsia\"\n",
    "                                                   , \"influencer5\":\"gold\"\n",
    "                                                  })\n",
    "                )\n",
    "\n",
    "\n",
    "# # plt.hlines(0,0,np.arange(len(Sentiment_DF[\"Compound\"])),alpha=1)\n",
    "\n",
    "# # Set the legend \n",
    "plt.legend(bbox_to_anchor = (1,1), title=\"The Influencers\", loc='best')\n",
    "\n",
    "# # Set the labels of x_axis, y_axis & title \n",
    "plt.xlabel(\"Tweets Ago\", fontsize=12)\n",
    "plt.ylabel(\"Tweet Polarity\", fontsize=12)\n",
    "plt.title(\"Sentiment Analysis of The Influencers Tweets (%s)\" % (time.strftime(\"%x\")), fontsize=16)\n",
    "\n",
    "# #Set the limite of  x_axis and y_axis\n",
    "plt.xlim(0, 101)\n",
    "plt.ylim(-1,1)\n",
    "\n",
    "# # Set the grid\n",
    "plt.grid(True)\n",
    "\n",
    "filePath = 'Images'\n",
    "if not path.exists(filePath):\n",
    "    makedirs(filePath)\n",
    "\n",
    "# Save the result to a .png file\n",
    "plt.savefig(\"Sentiment Analysis of Influencers Tweets.png\",bbox_inches='tight')\n",
    "# plt.savefig(\"Sentiment Analysis of The influencer's Tweets.png\",bbox_inches='tight')\n",
    "\n",
    "plt.show()"
   ]
  },
  {
   "cell_type": "code",
   "execution_count": 162,
   "metadata": {},
   "outputs": [],
   "source": [
    "# Calculate the mean for each Influencers & store into a dataframe\n",
    "Influencers_Comp_Mean =Sentiment_DF.groupby(\"influencers\").mean()[\"Compound\"].to_frame()\n",
    "\n",
    "#Reset the index \n",
    "Influencers_Comp_Mean.reset_index(inplace=True)\n",
    "\n",
    "# Influencers_Comp_Mean"
   ]
  },
  {
   "cell_type": "code",
   "execution_count": 6,
   "metadata": {},
   "outputs": [],
   "source": [
    "# Set the values for x_axis & y_axis\n",
    "x_axis = Influencers_Comp_Mean.index.values\n",
    "y_axis = Influencers_Comp_Mean[\"Compound\"]\n",
    "\n",
    "# Intialize the plots. \n",
    "fig,ax = plt.subplots()#  function that returns a tuple containing a figure and axes object(s)\n",
    "\n",
    "#Set the plot and assign the values like colors etc\n",
    "bars = ax.bar(x_axis,y_axis\n",
    "              , align = \"edge\"\n",
    "              , width = 1\n",
    "              , linewidth = 1\n",
    "              , edgecolor = 'black'\n",
    "              , color = [\"yellow\",\"lime\",\"red\",\"orange\",\"pink\"]\n",
    "             )\n",
    "\n",
    "# Set the tick(s) of the bar graph\n",
    "tick_locations = [value + 0.5 for value in range(len(x_axis))]\n",
    "plt.xticks(tick_locations,[\"influencer1\",\"influencer2\",\"influencer3\",\"influencer4\",\"influencer5\"])\n",
    "\n",
    "# If value is positive then put True in the Summary else place False\n",
    "Influencers_Comp_Mean[\"Positive\"] = Influencers_Comp_Mean[\"Compound\"] > 0\n",
    "\n",
    "# Assign the height based on positive value after allocating True / false value\n",
    "height = Influencers_Comp_Mean.Positive.map({True: 0.03 , False: -0.03})\n",
    "\n",
    "# # Set the value on labels on the bars\n",
    "for bar in bars:\n",
    "    ax.text(bar.get_x() + bar.get_width()/2, bar.get_height() + height[bars.index(bar)]\n",
    "            , round(Influencers_Comp_Mean[\"Compound\"][bars.index(bar)],3)\n",
    "            , ha = 'center'\n",
    "            , va = 'bottom'\n",
    "           )\n",
    "\n",
    "\n",
    "# Set the x_axis limits\n",
    "ax.set_xlim(0, len(x_axis))\n",
    "\n",
    "# Dynamically set the y_axis limits by finding the max & min value of y-axis\n",
    "ax.set_ylim(min(y_axis)-0.1, max(y_axis) + 0.1)\n",
    "\n",
    "# Set a horizontal line at y = 0\n",
    "plt.hlines(0,0,len(x_axis))\n",
    "\n",
    "# Title of the graph\n",
    "ax.set_title(\"Sentiments on Twitter of Influencers (%s)\" % (time.strftime(\"%x\")), fontsize=16)\n",
    "\n",
    "# Setting the y_axis label\n",
    "ax.set_ylabel(\"Polarity on Twitter \", fontsize=14)\n",
    "\n",
    "# Setting the x_axis label\n",
    "ax.set_xlabel(\"The Influencers\", fontsize=14)\n",
    "\n",
    "   \n",
    "# Saving the graph\n",
    "# plt.savefig(\"The Influencer Twitter Sentiment .png\",bbox_inches='tight')\n",
    "plt.show()"
   ]
  },
  {
   "cell_type": "code",
   "execution_count": null,
   "metadata": {},
   "outputs": [],
   "source": [
    "\n"
   ]
  }
 ],
 "metadata": {
  "kernelspec": {
   "display_name": "Python 3",
   "language": "python",
   "name": "python3"
  },
  "language_info": {
   "codemirror_mode": {
    "name": "ipython",
    "version": 3
   },
   "file_extension": ".py",
   "mimetype": "text/x-python",
   "name": "python",
   "nbconvert_exporter": "python",
   "pygments_lexer": "ipython3",
   "version": "3.6.5"
  }
 },
 "nbformat": 4,
 "nbformat_minor": 2
}
